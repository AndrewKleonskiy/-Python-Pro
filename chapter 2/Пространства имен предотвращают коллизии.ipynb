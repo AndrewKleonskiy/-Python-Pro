{
 "cells": [
  {
   "cell_type": "markdown",
   "id": "204944f2",
   "metadata": {},
   "source": [
    "## 2.1.3. Пространства имен предотвращают коллизии"
   ]
  },
  {
   "cell_type": "code",
   "execution_count": 1,
   "id": "9b847f6d",
   "metadata": {},
   "outputs": [
    {
     "name": "stdout",
     "output_type": "stream",
     "text": [
      "1643654477.461765\n"
     ]
    }
   ],
   "source": [
    "from time import time\n",
    "print(time())"
   ]
  },
  {
   "cell_type": "code",
   "execution_count": 2,
   "id": "c657d7fd",
   "metadata": {},
   "outputs": [
    {
     "name": "stdout",
     "output_type": "stream",
     "text": [
      "00:00:00\n"
     ]
    }
   ],
   "source": [
    "from datetime import time\n",
    "print(time())"
   ]
  },
  {
   "cell_type": "code",
   "execution_count": 3,
   "id": "fddbed8c",
   "metadata": {},
   "outputs": [
    {
     "name": "stdout",
     "output_type": "stream",
     "text": [
      "00:00:00\n"
     ]
    }
   ],
   "source": [
    "from time import time\n",
    "from datetime import time\n",
    "print(time())"
   ]
  },
  {
   "cell_type": "code",
   "execution_count": 4,
   "id": "87685d09",
   "metadata": {},
   "outputs": [],
   "source": [
    "import time \n",
    "import datetime\n",
    "now = time.time\n",
    "midnight = datetime.time"
   ]
  }
 ],
 "metadata": {
  "kernelspec": {
   "display_name": "Python 3",
   "language": "python",
   "name": "python3"
  },
  "language_info": {
   "codemirror_mode": {
    "name": "ipython",
    "version": 3
   },
   "file_extension": ".py",
   "mimetype": "text/x-python",
   "name": "python",
   "nbconvert_exporter": "python",
   "pygments_lexer": "ipython3",
   "version": "3.8.8"
  }
 },
 "nbformat": 4,
 "nbformat_minor": 5
}
