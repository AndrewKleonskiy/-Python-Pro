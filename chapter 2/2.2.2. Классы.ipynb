{
 "cells": [
  {
   "cell_type": "markdown",
   "id": "298f8a18",
   "metadata": {},
   "source": [
    "## 2.2.2. Классы"
   ]
  },
  {
   "cell_type": "markdown",
   "id": "9d131211",
   "metadata": {},
   "source": [
    "**Листинг 2.3.** Пересмотр кода игры \"Камень, ножницы, бумага\""
   ]
  },
  {
   "cell_type": "code",
   "execution_count": 1,
   "id": "21a414ba",
   "metadata": {},
   "outputs": [],
   "source": [
    "import random"
   ]
  },
  {
   "cell_type": "code",
   "execution_count": 2,
   "id": "2c1bb0a3",
   "metadata": {},
   "outputs": [
    {
     "name": "stdout",
     "output_type": "stream",
     "text": [
      "(0)Камень\n",
      "(1)Бумага\n",
      "(2)Ножницы\n",
      "Введите число по вашему выбору: 1\n",
      " Вы выбрали камень\n",
      " Компьютер выбрал камень\n",
      "Ничья!\n"
     ]
    }
   ],
   "source": [
    "OPTIONS = ['камень', 'бумага','ножницы']\n",
    "\n",
    "def get_computer_choice():\n",
    "    return random.choice(OPTIONS)\n",
    "\n",
    "def get_human_choice():\n",
    "    choice_number = int(input('Введите число по вашему выбору: '))\n",
    "    return OPTIONS[choice_number - 1]\n",
    "\n",
    "def print_options():\n",
    "    print('\\n'.join(f'({i}){option.title()}' for i, option in enumerate(OPTIONS)))\n",
    "    \n",
    "def print_choices(human_choice, computer_choice):\n",
    "    print(f' Вы выбрали {human_choice}')\n",
    "    print(f' Компьютер выбрал {computer_choice}')\n",
    "\n",
    "def print_win_lose(human_choice,computer_choice,human_beats,human_loses_to):\n",
    "    if computer_choice == human_loses_to:\n",
    "        print(f'К сожалению, {computer_choice} побеждает {humann_choice}')\n",
    "    elif computer_choice == human_beats:\n",
    "        print(f'Да, {human_choice} побеждает {computer_choice}!')\n",
    "\n",
    "        \n",
    "def print_result(human_choice, computer_choice):\n",
    "    if human_choice == computer_choice:\n",
    "        print('Ничья!')\n",
    "    if human_choice == 'камень':\n",
    "        print_win_lose('камень',computer_choice,'ножницы','бумага')\n",
    "    elif human_choice == 'бумага':\n",
    "        print_win_lose('бумага',computer_choice,'камень','ножницы')\n",
    "    elif human_choice == 'ножницы':\n",
    "        print_win_lose('ножницы',computer_choice,'бумага','камень')\n",
    "        \n",
    "print_options()\n",
    "human_choice = get_human_choice()\n",
    "computer_choice = get_computer_choice()\n",
    "print_choices(human_choice,computer_choice)\n",
    "print_result(human_choice,computer_choice)"
   ]
  },
  {
   "cell_type": "markdown",
   "id": "a11d2aaf",
   "metadata": {},
   "source": [
    "**Листинг 2.4.** Перемещение функций в класс в качестве методов"
   ]
  },
  {
   "cell_type": "code",
   "execution_count": 3,
   "id": "0d04a341",
   "metadata": {},
   "outputs": [],
   "source": [
    "OPTIONS = ['камень', 'бумага','ножницы']\n",
    "\n",
    "class RockPaperScissorsSimulator:\n",
    "    \n",
    "    def __init__(self):\n",
    "        self.computer_choice = None\n",
    "        self.human_choice = None\n",
    "    \n",
    "    def get_computer_choice(self):\n",
    "        self.computer_choice =  random.choice(OPTIONS)\n",
    "\n",
    "    def get_human_choice(self):\n",
    "        choice_number = int(input('Введите число по вашему выбору: '))\n",
    "        self.human_choice = OPTIONS[choice_number - 1]\n",
    "    \n",
    "    def print_options(self):\n",
    "        print('\\n'.join(f'({i}){option.title()}' for i, option in enumerate(OPTIONS)))\n",
    "        \n",
    "    \n",
    "    def print_choices(self):\n",
    "        print(f' Вы выбрали {self.human_choice}')\n",
    "        print(f' Компьютер выбрал {self.computer_choice}')\n",
    "        \n",
    "    def print_win_lose(self,human_beats,human_loses_to):\n",
    "        if self.computer_choice == human_loses_to:\n",
    "            print(f'К сожалению, {self.computer_choice} побеждает {self.human_choice}')\n",
    "        elif self.computer_choice == human_beats:\n",
    "            print(f'Да, {self.human_choice} побеждает {self.computer_choice}!')\n",
    "    \n",
    "    def print_result(self):\n",
    "        if self.human_choice == self.computer_choice:\n",
    "            print('Ничья!')\n",
    "            \n",
    "        if self.human_choice == 'камень':\n",
    "            self.print_win_lose('ножницы','бумага')\n",
    "        elif self.human_choice == 'бумага':\n",
    "            self.print_win_lose('камень','ножницы')\n",
    "        elif self.human_choice == 'ножницы':\n",
    "            self.print_win_lose('бумага','камень')\n",
    "    \n",
    "    def simulate(self):\n",
    "        self.print_options()\n",
    "        self.get_human_choice()\n",
    "        self.get_computer_choice()\n",
    "        self.print_choices()\n",
    "        self.print_result()\n"
   ]
  },
  {
   "cell_type": "code",
   "execution_count": 4,
   "id": "07d88051",
   "metadata": {},
   "outputs": [
    {
     "name": "stdout",
     "output_type": "stream",
     "text": [
      "(0)Камень\n",
      "(1)Бумага\n",
      "(2)Ножницы\n",
      "Введите число по вашему выбору: 1\n",
      " Вы выбрали камень\n",
      " Компьютер выбрал ножницы\n",
      "Да, камень побеждает ножницы!\n"
     ]
    }
   ],
   "source": [
    "RPS = RockPaperScissorsSimulator()\n",
    "RPS.simulate()"
   ]
  }
 ],
 "metadata": {
  "kernelspec": {
   "display_name": "Python 3",
   "language": "python",
   "name": "python3"
  },
  "language_info": {
   "codemirror_mode": {
    "name": "ipython",
    "version": 3
   },
   "file_extension": ".py",
   "mimetype": "text/x-python",
   "name": "python",
   "nbconvert_exporter": "python",
   "pygments_lexer": "ipython3",
   "version": "3.8.8"
  }
 },
 "nbformat": 4,
 "nbformat_minor": 5
}
