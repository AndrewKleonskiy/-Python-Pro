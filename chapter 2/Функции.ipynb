{
 "cells": [
  {
   "cell_type": "markdown",
   "id": "e048648c",
   "metadata": {},
   "source": [
    "## 2.2.1. Функции"
   ]
  },
  {
   "cell_type": "code",
   "execution_count": 35,
   "id": "779e4918",
   "metadata": {},
   "outputs": [],
   "source": [
    "names = ['Ларри','Керли','Мо']\n",
    "message = 'Три балбеса: '"
   ]
  },
  {
   "cell_type": "code",
   "execution_count": 36,
   "id": "950c4e0d",
   "metadata": {},
   "outputs": [
    {
     "name": "stdout",
     "output_type": "stream",
     "text": [
      "Три балбеса: Ларри, Керли, и Мо\n"
     ]
    }
   ],
   "source": [
    "for index,name in enumerate(names):\n",
    "    if index > 0:\n",
    "        message += ', '\n",
    "    if index == len(names) - 1:\n",
    "        message += 'и '\n",
    "    message += name\n",
    "print(message)"
   ]
  },
  {
   "cell_type": "code",
   "execution_count": 37,
   "id": "fb663f13",
   "metadata": {},
   "outputs": [],
   "source": [
    "names = ['Mo','Ларри','Шемп']\n",
    "message = 'Три балбеса: '"
   ]
  },
  {
   "cell_type": "code",
   "execution_count": 38,
   "id": "3de8343e",
   "metadata": {},
   "outputs": [
    {
     "name": "stdout",
     "output_type": "stream",
     "text": [
      "Три балбеса: Mo, Ларри, и Шемп\n"
     ]
    }
   ],
   "source": [
    "for index,name in enumerate(names):\n",
    "    if index>0:\n",
    "        message += ', '\n",
    "    if index == len(names) -1:\n",
    "        message += 'и '\n",
    "    message += name\n",
    "print(message)\n"
   ]
  },
  {
   "cell_type": "code",
   "execution_count": 39,
   "id": "ab00a8db",
   "metadata": {},
   "outputs": [],
   "source": [
    "def introduce_stooges(names):\n",
    "    message = 'Три балбеса: '\n",
    "    for index, name in enumerate(names):\n",
    "        if index >0:\n",
    "            message += ', '\n",
    "        if index == len(names) - 1:\n",
    "            message += 'и '\n",
    "        message += name\n",
    "    print(message)"
   ]
  },
  {
   "cell_type": "code",
   "execution_count": 40,
   "id": "7adc5da0",
   "metadata": {},
   "outputs": [
    {
     "name": "stdout",
     "output_type": "stream",
     "text": [
      "Три балбеса: Мо, Ларри, и Шемп\n",
      "Три балбеса: Ларри, Керли, и Мо\n"
     ]
    }
   ],
   "source": [
    "introduce_stooges(['Мо','Ларри','Шемп'])\n",
    "introduce_stooges(['Ларри','Керли','Мо'])"
   ]
  },
  {
   "cell_type": "code",
   "execution_count": 46,
   "id": "a746ede4",
   "metadata": {},
   "outputs": [],
   "source": [
    "def introduce(title,names):\n",
    "    message = f'{title}: '\n",
    "    for index, name in enumerate(names):\n",
    "        if index > 0:\n",
    "            message += ', '\n",
    "        if index == len(names) - 1:\n",
    "            message += 'и '\n",
    "        message += name\n",
    "    print(message)"
   ]
  },
  {
   "cell_type": "code",
   "execution_count": 47,
   "id": "acd095c5",
   "metadata": {},
   "outputs": [
    {
     "name": "stdout",
     "output_type": "stream",
     "text": [
      "Три балбеса: Мо, Ларри, и Шемп\n"
     ]
    }
   ],
   "source": [
    "introduce('Три балбеса',['Мо','Ларри','Шемп'])"
   ]
  },
  {
   "cell_type": "code",
   "execution_count": 48,
   "id": "f625bb49",
   "metadata": {},
   "outputs": [
    {
     "name": "stdout",
     "output_type": "stream",
     "text": [
      "Бурундуки: Элвин, Саймон, и Теодор\n"
     ]
    }
   ],
   "source": [
    "introduce('Бурундуки',['Элвин','Саймон','Теодор'])"
   ]
  },
  {
   "cell_type": "code",
   "execution_count": 50,
   "id": "2d2dd37f",
   "metadata": {},
   "outputs": [],
   "source": [
    "def join_names(names):\n",
    "    name_string  = ''\n",
    "    for index, name in enumerate(names):\n",
    "        if index >0:\n",
    "           message += ', '\n",
    "        if index == len(names) - 1:\n",
    "            message += 'и '\n",
    "        name_string += name\n",
    "        return name_string"
   ]
  },
  {
   "cell_type": "code",
   "execution_count": 51,
   "id": "b78ac1d7",
   "metadata": {},
   "outputs": [],
   "source": [
    "def introduce(title,names):\n",
    "    print(f'{title}:{join_names(names)}')"
   ]
  },
  {
   "cell_type": "code",
   "execution_count": null,
   "id": "a1402087",
   "metadata": {},
   "outputs": [],
   "source": []
  }
 ],
 "metadata": {
  "kernelspec": {
   "display_name": "Python 3",
   "language": "python",
   "name": "python3"
  },
  "language_info": {
   "codemirror_mode": {
    "name": "ipython",
    "version": 3
   },
   "file_extension": ".py",
   "mimetype": "text/x-python",
   "name": "python",
   "nbconvert_exporter": "python",
   "pygments_lexer": "ipython3",
   "version": "3.8.8"
  }
 },
 "nbformat": 4,
 "nbformat_minor": 5
}
