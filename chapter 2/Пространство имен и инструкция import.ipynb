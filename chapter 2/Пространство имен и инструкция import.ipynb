{
 "cells": [
  {
   "cell_type": "markdown",
   "id": "1bd9d478",
   "metadata": {},
   "source": [
    "# Основы проектирования "
   ]
  },
  {
   "cell_type": "markdown",
   "id": "db35f10c",
   "metadata": {},
   "source": [
    "## Разделение ответственности"
   ]
  },
  {
   "cell_type": "code",
   "execution_count": 2,
   "id": "ec045c3b",
   "metadata": {},
   "outputs": [
    {
     "name": "stdout",
     "output_type": "stream",
     "text": [
      "The Zen of Python, by Tim Peters\n",
      "\n",
      "Beautiful is better than ugly.\n",
      "Explicit is better than implicit.\n",
      "Simple is better than complex.\n",
      "Complex is better than complicated.\n",
      "Flat is better than nested.\n",
      "Sparse is better than dense.\n",
      "Readability counts.\n",
      "Special cases aren't special enough to break the rules.\n",
      "Although practicality beats purity.\n",
      "Errors should never pass silently.\n",
      "Unless explicitly silenced.\n",
      "In the face of ambiguity, refuse the temptation to guess.\n",
      "There should be one-- and preferably only one --obvious way to do it.\n",
      "Although that way may not be obvious at first unless you're Dutch.\n",
      "Now is better than never.\n",
      "Although never is often better than *right* now.\n",
      "If the implementation is hard to explain, it's a bad idea.\n",
      "If the implementation is easy to explain, it may be a good idea.\n",
      "Namespaces are one honking great idea -- let's do more of those!\n"
     ]
    }
   ],
   "source": [
    "import this"
   ]
  },
  {
   "cell_type": "markdown",
   "id": "7ce1df5c",
   "metadata": {},
   "source": [
    "### 2.1.1. Пространства имен и инструкция import"
   ]
  },
  {
   "cell_type": "code",
   "execution_count": 5,
   "id": "d959ac35",
   "metadata": {},
   "outputs": [],
   "source": [
    "# sales_tax.py\n",
    "TAX_RATES_BY_STATE = {\n",
    "    'MI':1.06,\n",
    "    # ...\n",
    "    \n",
    "}"
   ]
  },
  {
   "cell_type": "code",
   "execution_count": 6,
   "id": "c92d1975",
   "metadata": {},
   "outputs": [],
   "source": [
    "def add_sales_tax(total,state):\n",
    "    return total * TAX_RATES_BY_STATE[state]"
   ]
  },
  {
   "cell_type": "code",
   "execution_count": 7,
   "id": "bc5ea48d",
   "metadata": {},
   "outputs": [],
   "source": [
    "#sales_tax.py\n",
    "\n",
    "TAX_RATES_BY_STATE = {\n",
    "    'MI':1.06,\n",
    "    \n",
    "}"
   ]
  },
  {
   "cell_type": "code",
   "execution_count": 8,
   "id": "4f3b3dc9",
   "metadata": {},
   "outputs": [],
   "source": [
    "def add_sales_tax(total,state):\n",
    "    tax_rate = TAX_RATES_BY_STATE[state]\n",
    "    return total * tax_rate"
   ]
  },
  {
   "cell_type": "markdown",
   "id": "0b2b091c",
   "metadata": {},
   "source": [
    "Модуль, который хочет использовать переменную, функцию или класс из другого модуля, должен импортировать их в свое глобальное про- странство имен. Импортирование — это перемещение имени в нужное пространство имен из другой части кода."
   ]
  },
  {
   "cell_type": "markdown",
   "id": "4b573cd4",
   "metadata": {},
   "source": [
    "#receipt.py\n",
    "\n",
    "from sales_tax import add_sales_tax"
   ]
  },
  {
   "cell_type": "code",
   "execution_count": 12,
   "id": "861a7870",
   "metadata": {},
   "outputs": [],
   "source": [
    "def print_receipt():\n",
    "    total = ...\n",
    "    state = ...\n",
    "    print(f'TOTAL:{total}')\n",
    "    print(f' AFTER TAX: {add_sales_tax(total,state)}')"
   ]
  },
  {
   "cell_type": "code",
   "execution_count": null,
   "id": "7a748a49",
   "metadata": {},
   "outputs": [],
   "source": []
  }
 ],
 "metadata": {
  "kernelspec": {
   "display_name": "Python 3",
   "language": "python",
   "name": "python3"
  },
  "language_info": {
   "codemirror_mode": {
    "name": "ipython",
    "version": 3
   },
   "file_extension": ".py",
   "mimetype": "text/x-python",
   "name": "python",
   "nbconvert_exporter": "python",
   "pygments_lexer": "ipython3",
   "version": "3.8.8"
  }
 },
 "nbformat": 4,
 "nbformat_minor": 5
}
