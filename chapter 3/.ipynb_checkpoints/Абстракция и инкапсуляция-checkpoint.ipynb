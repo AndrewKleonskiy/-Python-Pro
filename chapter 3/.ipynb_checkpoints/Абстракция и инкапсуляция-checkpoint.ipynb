{
 "cells": [
  {
   "cell_type": "markdown",
   "id": "b629e7eb",
   "metadata": {},
   "source": [
    "# 3 Абстракция и инкапсуляция"
   ]
  },
  {
   "cell_type": "markdown",
   "id": "7f003abc",
   "metadata": {},
   "source": [
    "**Листинг 3.1.** Процедура разложения абзаца на предложения и лексемы"
   ]
  },
  {
   "cell_type": "code",
   "execution_count": 13,
   "id": "b20e1b60",
   "metadata": {},
   "outputs": [],
   "source": [
    "import re \n",
    "\n",
    "product_review = '''Это прекрасное молоко, но товарная линейка, похоже, ограничена спектром имеющихся цветов.Я смог найти только белый цвет.'''\n",
    "\n",
    "\n",
    "sentence_pattern = re.compile(r'(.*?\\.)(\\s|$)', re.DOTALL)\n",
    "matches = sentence_pattern.findall(product_review)\n",
    "sentences = [match[0] for match in matches]\n",
    "\n",
    "word_pattern = re.compile(r\"([\\w\\-']+)([\\s,.])?\")\n",
    "for sentence in sentences:\n",
    "    matches = word_pattern.findall(sentence)\n",
    "    words = [match[0] for match in matches]"
   ]
  },
  {
   "cell_type": "markdown",
   "id": "a6f2413e",
   "metadata": {},
   "source": [
    "**Листинг 3.2.** Рефакторизованный разбор предложения "
   ]
  },
  {
   "cell_type": "code",
   "execution_count": 25,
   "id": "e868d556",
   "metadata": {},
   "outputs": [
    {
     "name": "stdout",
     "output_type": "stream",
     "text": [
      "['прекрасное', 'но', 'линейка', 'похоже', 'ограничена', 'имеющихся', 'смог', 'только', 'цвет']\n"
     ]
    }
   ],
   "source": [
    "def get_matches_for_pattern(pattern, string):\n",
    "    matches = pattern.findall(string)\n",
    "    return [match[0] for match in matches]\n",
    "\n",
    "product_review = '''Это прекрасное молоко, но товарная линейка, похоже, ограничена спектром имеющихся цветов.Я смог найти только белый цвет.'''\n",
    "\n",
    "\n",
    "sentense_pattern = re.compile(r'(.*?\\.)(\\s|$)', re.DOTALL)\n",
    "sentences = get_matches_for_pattern(sentence_pattern,product_review)\n",
    "\n",
    "word_pattern = re.compile(r\" ([\\w\\-']+)([\\s,.])?\")\n",
    "for sentence in sentences :\n",
    "    words = get_matches_for_pattern(word_pattern,sentence)\n",
    "    print(words)\n",
    "    "
   ]
  },
  {
   "cell_type": "code",
   "execution_count": null,
   "id": "7ce3b94b",
   "metadata": {},
   "outputs": [],
   "source": []
  },
  {
   "cell_type": "code",
   "execution_count": null,
   "id": "4fb99ba9",
   "metadata": {},
   "outputs": [],
   "source": []
  }
 ],
 "metadata": {
  "kernelspec": {
   "display_name": "Python 3",
   "language": "python",
   "name": "python3"
  },
  "language_info": {
   "codemirror_mode": {
    "name": "ipython",
    "version": 3
   },
   "file_extension": ".py",
   "mimetype": "text/x-python",
   "name": "python",
   "nbconvert_exporter": "python",
   "pygments_lexer": "ipython3",
   "version": "3.8.8"
  }
 },
 "nbformat": 4,
 "nbformat_minor": 5
}
